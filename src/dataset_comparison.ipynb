{
 "cells": [
  {
   "cell_type": "code",
   "execution_count": 1,
   "metadata": {},
   "outputs": [],
   "source": [
    "import os, sys\n",
    "\n",
    "module_path = os.path.abspath(os.path.join(\"../..\"))\n",
    "sys.path.append(module_path)"
   ]
  },
  {
   "cell_type": "markdown",
   "metadata": {},
   "source": [
    "## Load datasets"
   ]
  },
  {
   "cell_type": "code",
   "execution_count": 2,
   "metadata": {},
   "outputs": [
    {
     "name": "stdout",
     "output_type": "stream",
     "text": [
      "Loaded metadata for dataset: LSA-T\n",
      "Loaded train annotations at /mnt/disk3Tb/slt-datasets/LSAT/annotations.csv\n"
     ]
    },
    {
     "name": "stderr",
     "output_type": "stream",
     "text": [
      "Validating files: 100%|██████████| 5413/5413 [00:00<00:00, 256856.10it/s]\n"
     ]
    },
    {
     "name": "stdout",
     "output_type": "stream",
     "text": [
      "Missing 6 files out of 5413 (0.11%) from split train\n",
      "\n",
      "Loaded metadata for dataset: RWTH-PHOENIX-Weather 2014 T: Parallel Corpus of Sign Language Video, Gloss and Translation\n",
      "Loaded train annotations at /mnt/disk3Tb/slt-datasets/RWTH_PHOENIX_2014T/annotations.csv\n"
     ]
    },
    {
     "name": "stderr",
     "output_type": "stream",
     "text": [
      "Validating files: 100%|██████████| 7096/7096 [00:00<00:00, 273030.49it/s]\n"
     ]
    },
    {
     "name": "stdout",
     "output_type": "stream",
     "text": [
      "Dataset loaded correctly\n",
      "\n",
      "Loaded metadata for dataset: The Greek Sign Language (GSL) Dataset\n",
      "Loaded train annotations at /mnt/disk3Tb/slt-datasets/GSL/annotations.csv\n"
     ]
    },
    {
     "name": "stderr",
     "output_type": "stream",
     "text": [
      "Validating files: 100%|██████████| 8821/8821 [00:00<00:00, 271283.80it/s]"
     ]
    },
    {
     "name": "stdout",
     "output_type": "stream",
     "text": [
      "Dataset loaded correctly\n",
      "\n"
     ]
    },
    {
     "name": "stderr",
     "output_type": "stream",
     "text": [
      "\n"
     ]
    }
   ],
   "source": [
    "from SLTDataset import SLTDataset\n",
    "\n",
    "\n",
    "DATASETS = [\"LSAT\", \"RWTH_PHOENIX_2014T\", \"GSL\"]\n",
    "DATA_DIR = \"/mnt/disk3Tb/slt-datasets/\"\n",
    "\n",
    "\n",
    "datasets: dict[str, SLTDataset] = {}\n",
    "for dataset in DATASETS:\n",
    "    datasets[dataset] = SLTDataset(\n",
    "        data_dir=DATA_DIR + dataset,\n",
    "        split=\"train\",\n",
    "        input_mode=\"pose\",\n",
    "        output_mode=\"text\",\n",
    "    )"
   ]
  },
  {
   "cell_type": "code",
   "execution_count": 3,
   "metadata": {},
   "outputs": [
    {
     "name": "stdout",
     "output_type": "stream",
     "text": [
      "Processing dataset LSAT\n"
     ]
    },
    {
     "name": "stdout",
     "output_type": "stream",
     "text": [
      "Processing dataset RWTH_PHOENIX_2014T\n",
      "Processing dataset GSL\n"
     ]
    }
   ],
   "source": [
    "import pandas as pd\n",
    "\n",
    "from WordLevelTokenizer import WordLevelTokenizer\n",
    "\n",
    "\n",
    "samples: list[tuple[str, str, float, list[int]]] = []\n",
    "tokenizers = {\n",
    "    name: WordLevelTokenizer(dataset.annotations[\"text\"].tolist())\n",
    "    for name, dataset in datasets.items()\n",
    "}\n",
    "\n",
    "for name, dataset in datasets.items():\n",
    "    print(f\"Processing dataset {name}\")\n",
    "    for pose, text in dataset:\n",
    "        samples.append(\n",
    "            (name, text, len(pose), tokenizers[name]([text])[\"input_ids\"][0])\n",
    "        )\n",
    "df = pd.DataFrame(samples, columns=[\"dataset\", \"text\", \"pose_length\", \"token_ids\"])\n",
    "df[\"token_length\"] = df[\"token_ids\"].apply(len)"
   ]
  },
  {
   "cell_type": "code",
   "execution_count": 4,
   "metadata": {},
   "outputs": [
    {
     "data": {
      "text/html": [
       "<div>\n",
       "<style scoped>\n",
       "    .dataframe tbody tr th:only-of-type {\n",
       "        vertical-align: middle;\n",
       "    }\n",
       "\n",
       "    .dataframe tbody tr th {\n",
       "        vertical-align: top;\n",
       "    }\n",
       "\n",
       "    .dataframe thead th {\n",
       "        text-align: right;\n",
       "    }\n",
       "</style>\n",
       "<table border=\"1\" class=\"dataframe\">\n",
       "  <thead>\n",
       "    <tr style=\"text-align: right;\">\n",
       "      <th></th>\n",
       "      <th>dataset</th>\n",
       "      <th>text</th>\n",
       "      <th>pose_length</th>\n",
       "      <th>token_ids</th>\n",
       "      <th>token_length</th>\n",
       "    </tr>\n",
       "  </thead>\n",
       "  <tbody>\n",
       "    <tr>\n",
       "      <th>0</th>\n",
       "      <td>LSAT</td>\n",
       "      <td>mientras trabajábamos para brindarte toda la ...</td>\n",
       "      <td>676</td>\n",
       "      <td>[2, 4, 5, 6, 7, 8, 9, 10, 11, 12, 13, 14, 15, ...</td>\n",
       "      <td>45</td>\n",
       "    </tr>\n",
       "    <tr>\n",
       "      <th>1</th>\n",
       "      <td>LSAT</td>\n",
       "      <td>mi nombre es lucía.</td>\n",
       "      <td>78</td>\n",
       "      <td>[2, 38, 39, 40, 41, 3]</td>\n",
       "      <td>6</td>\n",
       "    </tr>\n",
       "    <tr>\n",
       "      <th>2</th>\n",
       "      <td>LSAT</td>\n",
       "      <td>los avances en las investigaciones de las vacu...</td>\n",
       "      <td>147</td>\n",
       "      <td>[2, 42, 43, 11, 44, 45, 18, 44, 46, 47, 22, 48...</td>\n",
       "      <td>13</td>\n",
       "    </tr>\n",
       "    <tr>\n",
       "      <th>3</th>\n",
       "      <td>LSAT</td>\n",
       "      <td>cuáles son las novedades de la auh.</td>\n",
       "      <td>102</td>\n",
       "      <td>[2, 49, 50, 44, 51, 18, 9, 52, 3]</td>\n",
       "      <td>9</td>\n",
       "    </tr>\n",
       "    <tr>\n",
       "      <th>4</th>\n",
       "      <td>LSAT</td>\n",
       "      <td>los problemas que puede causar mirar el celula...</td>\n",
       "      <td>156</td>\n",
       "      <td>[2, 42, 53, 54, 55, 56, 57, 22, 58, 59, 9, 60,...</td>\n",
       "      <td>16</td>\n",
       "    </tr>\n",
       "  </tbody>\n",
       "</table>\n",
       "</div>"
      ],
      "text/plain": [
       "  dataset                                               text  pose_length  \\\n",
       "0    LSAT   mientras trabajábamos para brindarte toda la ...          676   \n",
       "1    LSAT                                mi nombre es lucía.           78   \n",
       "2    LSAT  los avances en las investigaciones de las vacu...          147   \n",
       "3    LSAT                cuáles son las novedades de la auh.          102   \n",
       "4    LSAT  los problemas que puede causar mirar el celula...          156   \n",
       "\n",
       "                                           token_ids  token_length  \n",
       "0  [2, 4, 5, 6, 7, 8, 9, 10, 11, 12, 13, 14, 15, ...            45  \n",
       "1                             [2, 38, 39, 40, 41, 3]             6  \n",
       "2  [2, 42, 43, 11, 44, 45, 18, 44, 46, 47, 22, 48...            13  \n",
       "3                  [2, 49, 50, 44, 51, 18, 9, 52, 3]             9  \n",
       "4  [2, 42, 53, 54, 55, 56, 57, 22, 58, 59, 9, 60,...            16  "
      ]
     },
     "execution_count": 4,
     "metadata": {},
     "output_type": "execute_result"
    }
   ],
   "source": [
    "df.head()"
   ]
  },
  {
   "cell_type": "code",
   "execution_count": 5,
   "metadata": {},
   "outputs": [
    {
     "data": {
      "text/html": [
       "<div>\n",
       "<style scoped>\n",
       "    .dataframe tbody tr th:only-of-type {\n",
       "        vertical-align: middle;\n",
       "    }\n",
       "\n",
       "    .dataframe tbody tr th {\n",
       "        vertical-align: top;\n",
       "    }\n",
       "\n",
       "    .dataframe thead th {\n",
       "        text-align: right;\n",
       "    }\n",
       "</style>\n",
       "<table border=\"1\" class=\"dataframe\">\n",
       "  <thead>\n",
       "    <tr style=\"text-align: right;\">\n",
       "      <th></th>\n",
       "      <th>dataset</th>\n",
       "      <th>GSL</th>\n",
       "      <th>LSAT</th>\n",
       "      <th>RWTH_PHOENIX_2014T</th>\n",
       "    </tr>\n",
       "  </thead>\n",
       "  <tbody>\n",
       "    <tr>\n",
       "      <th rowspan=\"8\" valign=\"top\">pose_length</th>\n",
       "      <th>count</th>\n",
       "      <td>8821.000000</td>\n",
       "      <td>5407.000000</td>\n",
       "      <td>7096.000000</td>\n",
       "    </tr>\n",
       "    <tr>\n",
       "      <th>mean</th>\n",
       "      <td>99.978687</td>\n",
       "      <td>286.353246</td>\n",
       "      <td>116.594419</td>\n",
       "    </tr>\n",
       "    <tr>\n",
       "      <th>std</th>\n",
       "      <td>78.051631</td>\n",
       "      <td>215.493003</td>\n",
       "      <td>49.859426</td>\n",
       "    </tr>\n",
       "    <tr>\n",
       "      <th>min</th>\n",
       "      <td>6.000000</td>\n",
       "      <td>30.000000</td>\n",
       "      <td>16.000000</td>\n",
       "    </tr>\n",
       "    <tr>\n",
       "      <th>25%</th>\n",
       "      <td>39.000000</td>\n",
       "      <td>136.000000</td>\n",
       "      <td>83.000000</td>\n",
       "    </tr>\n",
       "    <tr>\n",
       "      <th>50%</th>\n",
       "      <td>88.000000</td>\n",
       "      <td>224.000000</td>\n",
       "      <td>112.000000</td>\n",
       "    </tr>\n",
       "    <tr>\n",
       "      <th>75%</th>\n",
       "      <td>135.000000</td>\n",
       "      <td>370.000000</td>\n",
       "      <td>144.000000</td>\n",
       "    </tr>\n",
       "    <tr>\n",
       "      <th>max</th>\n",
       "      <td>615.000000</td>\n",
       "      <td>2695.000000</td>\n",
       "      <td>475.000000</td>\n",
       "    </tr>\n",
       "    <tr>\n",
       "      <th rowspan=\"8\" valign=\"top\">token_length</th>\n",
       "      <th>count</th>\n",
       "      <td>8821.000000</td>\n",
       "      <td>5407.000000</td>\n",
       "      <td>7096.000000</td>\n",
       "    </tr>\n",
       "    <tr>\n",
       "      <th>mean</th>\n",
       "      <td>6.182746</td>\n",
       "      <td>17.999630</td>\n",
       "      <td>15.962937</td>\n",
       "    </tr>\n",
       "    <tr>\n",
       "      <th>std</th>\n",
       "      <td>2.613097</td>\n",
       "      <td>10.921338</td>\n",
       "      <td>5.983502</td>\n",
       "    </tr>\n",
       "    <tr>\n",
       "      <th>min</th>\n",
       "      <td>3.000000</td>\n",
       "      <td>3.000000</td>\n",
       "      <td>3.000000</td>\n",
       "    </tr>\n",
       "    <tr>\n",
       "      <th>25%</th>\n",
       "      <td>4.000000</td>\n",
       "      <td>10.000000</td>\n",
       "      <td>12.000000</td>\n",
       "    </tr>\n",
       "    <tr>\n",
       "      <th>50%</th>\n",
       "      <td>6.000000</td>\n",
       "      <td>15.000000</td>\n",
       "      <td>15.000000</td>\n",
       "    </tr>\n",
       "    <tr>\n",
       "      <th>75%</th>\n",
       "      <td>8.000000</td>\n",
       "      <td>23.000000</td>\n",
       "      <td>19.000000</td>\n",
       "    </tr>\n",
       "    <tr>\n",
       "      <th>max</th>\n",
       "      <td>20.000000</td>\n",
       "      <td>113.000000</td>\n",
       "      <td>54.000000</td>\n",
       "    </tr>\n",
       "  </tbody>\n",
       "</table>\n",
       "</div>"
      ],
      "text/plain": [
       "dataset                     GSL         LSAT  RWTH_PHOENIX_2014T\n",
       "pose_length  count  8821.000000  5407.000000         7096.000000\n",
       "             mean     99.978687   286.353246          116.594419\n",
       "             std      78.051631   215.493003           49.859426\n",
       "             min       6.000000    30.000000           16.000000\n",
       "             25%      39.000000   136.000000           83.000000\n",
       "             50%      88.000000   224.000000          112.000000\n",
       "             75%     135.000000   370.000000          144.000000\n",
       "             max     615.000000  2695.000000          475.000000\n",
       "token_length count  8821.000000  5407.000000         7096.000000\n",
       "             mean      6.182746    17.999630           15.962937\n",
       "             std       2.613097    10.921338            5.983502\n",
       "             min       3.000000     3.000000            3.000000\n",
       "             25%       4.000000    10.000000           12.000000\n",
       "             50%       6.000000    15.000000           15.000000\n",
       "             75%       8.000000    23.000000           19.000000\n",
       "             max      20.000000   113.000000           54.000000"
      ]
     },
     "execution_count": 5,
     "metadata": {},
     "output_type": "execute_result"
    }
   ],
   "source": [
    "df.groupby(\"dataset\").describe().T"
   ]
  },
  {
   "cell_type": "code",
   "execution_count": 6,
   "metadata": {},
   "outputs": [
    {
     "data": {
      "image/png": "[encoded data removed]",
      "text/plain": [
       "<Figure size 1200x400 with 2 Axes>"
      ]
     },
     "metadata": {},
     "output_type": "display_data"
    }
   ],
   "source": [
    "import matplotlib.pyplot as plt\n",
    "import seaborn as sns\n",
    "\n",
    "\n",
    "fig, axs = plt.subplots(1, 2, figsize=(12, 4))\n",
    "sns.histplot(data=df, x=\"pose_length\", hue=\"dataset\", bins=50, ax=axs[0])\n",
    "sns.histplot(data=df, x=\"token_length\", hue=\"dataset\", bins=50, ax=axs[1])\n",
    "plt.show()"
   ]
  },
  {
   "cell_type": "markdown",
   "metadata": {},
   "source": [
    "## Word frequency analysis"
   ]
  },
  {
   "cell_type": "markdown",
   "metadata": {},
   "source": [
    "Percentage of different sentences over the whole dataset"
   ]
  },
  {
   "cell_type": "code",
   "execution_count": 7,
   "metadata": {},
   "outputs": [
    {
     "data": {
      "text/plain": [
       "dataset\n",
       "GSL                    3.514341\n",
       "LSAT                  96.301091\n",
       "RWTH_PHOENIX_2014T    96.575536\n",
       "Name: text, dtype: float64"
      ]
     },
     "execution_count": 7,
     "metadata": {},
     "output_type": "execute_result"
    }
   ],
   "source": [
    "100 * df.groupby(\"dataset\")[\"text\"].nunique() / df.groupby(\"dataset\")[\"text\"].count()"
   ]
  },
  {
   "cell_type": "code",
   "execution_count": 8,
   "metadata": {},
   "outputs": [
    {
     "data": {
      "text/html": [
       "<div>\n",
       "<style scoped>\n",
       "    .dataframe tbody tr th:only-of-type {\n",
       "        vertical-align: middle;\n",
       "    }\n",
       "\n",
       "    .dataframe tbody tr th {\n",
       "        vertical-align: top;\n",
       "    }\n",
       "\n",
       "    .dataframe thead th {\n",
       "        text-align: right;\n",
       "    }\n",
       "</style>\n",
       "<table border=\"1\" class=\"dataframe\">\n",
       "  <thead>\n",
       "    <tr style=\"text-align: right;\">\n",
       "      <th></th>\n",
       "      <th>LSAT</th>\n",
       "      <th>RWTH_PHOENIX_2014T</th>\n",
       "      <th>GSL</th>\n",
       "    </tr>\n",
       "    <tr>\n",
       "      <th>count</th>\n",
       "      <th></th>\n",
       "      <th></th>\n",
       "      <th></th>\n",
       "    </tr>\n",
       "  </thead>\n",
       "  <tbody>\n",
       "    <tr>\n",
       "      <th>1</th>\n",
       "      <td>61.853696</td>\n",
       "      <td>37.279335</td>\n",
       "      <td>3.789474</td>\n",
       "    </tr>\n",
       "    <tr>\n",
       "      <th>2</th>\n",
       "      <td>14.879357</td>\n",
       "      <td>12.114919</td>\n",
       "      <td>0.631579</td>\n",
       "    </tr>\n",
       "    <tr>\n",
       "      <th>3</th>\n",
       "      <td>6.689646</td>\n",
       "      <td>6.818969</td>\n",
       "      <td>NaN</td>\n",
       "    </tr>\n",
       "    <tr>\n",
       "      <th>4</th>\n",
       "      <td>3.695902</td>\n",
       "      <td>4.638283</td>\n",
       "      <td>0.210526</td>\n",
       "    </tr>\n",
       "    <tr>\n",
       "      <th>5</th>\n",
       "      <td>2.323503</td>\n",
       "      <td>3.461405</td>\n",
       "      <td>0.421053</td>\n",
       "    </tr>\n",
       "  </tbody>\n",
       "</table>\n",
       "</div>"
      ],
      "text/plain": [
       "            LSAT  RWTH_PHOENIX_2014T       GSL\n",
       "count                                         \n",
       "1      61.853696           37.279335  3.789474\n",
       "2      14.879357           12.114919  0.631579\n",
       "3       6.689646            6.818969       NaN\n",
       "4       3.695902            4.638283  0.210526\n",
       "5       2.323503            3.461405  0.421053"
      ]
     },
     "execution_count": 8,
     "metadata": {},
     "output_type": "execute_result"
    }
   ],
   "source": [
    "full_texts = df.groupby(\"dataset\").agg({\"token_ids\": \"sum\"})\n",
    "full_texts_dfs = {\n",
    "    dataset: pd.DataFrame(\n",
    "        {\"token\": full_texts.loc[dataset, \"token_ids\"]},\n",
    "    )\n",
    "    for dataset in DATASETS\n",
    "}\n",
    "token_freqs = {}\n",
    "for dataset in DATASETS:\n",
    "    frequency_counts = (\n",
    "        full_texts_dfs[dataset].value_counts().value_counts().sort_index()\n",
    "    )\n",
    "    token_freqs[dataset] = 100 * frequency_counts / frequency_counts.sum()\n",
    "\n",
    "token_freqs_df = pd.DataFrame(token_freqs)\n",
    "token_freqs_df.head()"
   ]
  },
  {
   "cell_type": "code",
   "execution_count": 9,
   "metadata": {},
   "outputs": [
    {
     "data": {
      "image/png": "[encoded data removed]",
      "text/plain": [
       "<Figure size 3000x1000 with 1 Axes>"
      ]
     },
     "metadata": {},
     "output_type": "display_data"
    }
   ],
   "source": [
    "TO_PLOT = 95\n",
    "token_freqs_top = (\n",
    "    token_freqs_df[:TO_PLOT].reset_index().rename(columns={\"index\": \"count\"})\n",
    ")\n",
    "token_freqs_top_melted = token_freqs_top.melt(\n",
    "    id_vars=\"count\", var_name=\"dataset\", value_name=\"percentage\"\n",
    ")\n",
    "\n",
    "plt.figure(figsize=(30, 10))\n",
    "sns.barplot(x=\"count\", y=\"percentage\", hue=\"dataset\", data=token_freqs_top_melted)\n",
    "plt.show()"
   ]
  }
 ],
 "metadata": {
  "kernelspec": {
   "display_name": "slt_datasets",
   "language": "python",
   "name": "python3"
  },
  "language_info": {
   "codemirror_mode": {
    "name": "ipython",
    "version": 3
   },
   "file_extension": ".py",
   "mimetype": "text/x-python",
   "name": "python",
   "nbconvert_exporter": "python",
   "pygments_lexer": "ipython3",
   "version": "3.11.7"
  }
 },
 "nbformat": 4,
 "nbformat_minor": 2
}
