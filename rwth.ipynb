{
 "cells": [
  {
   "cell_type": "code",
   "execution_count": 1,
   "metadata": {},
   "outputs": [
    {
     "name": "stderr",
     "output_type": "stream",
     "text": [
      "2024-02-19 13:27:50.259008: I tensorflow/tsl/cuda/cudart_stub.cc:28] Could not find cuda drivers on your machine, GPU will not be used.\n",
      "2024-02-19 13:27:52.237347: I tensorflow/tsl/cuda/cudart_stub.cc:28] Could not find cuda drivers on your machine, GPU will not be used.\n",
      "2024-02-19 13:27:52.253829: I tensorflow/core/platform/cpu_feature_guard.cc:182] This TensorFlow binary is optimized to use available CPU instructions in performance-critical operations.\n",
      "To enable the following instructions: AVX2 FMA, in other operations, rebuild TensorFlow with the appropriate compiler flags.\n",
      "2024-02-19 13:27:57.521562: W tensorflow/compiler/tf2tensorrt/utils/py_utils.cc:38] TF-TRT Warning: Could not find TensorRT\n"
     ]
    }
   ],
   "source": [
    "import tensorflow_datasets as tfds\n",
    "import sign_language_datasets.datasets\n",
    "from sign_language_datasets.datasets.config import SignDatasetConfig\n",
    "\n",
    "import itertools"
   ]
  },
  {
   "cell_type": "code",
   "execution_count": 2,
   "metadata": {},
   "outputs": [],
   "source": [
    "DATA_DIR = \"./datasets\""
   ]
  },
  {
   "cell_type": "code",
   "execution_count": 3,
   "metadata": {},
   "outputs": [
    {
     "name": "stderr",
     "output_type": "stream",
     "text": [
      "WARNING:absl:Using custom data configuration rwth_phoenix2014_t_poses\n",
      "WARNING:absl:You use TensorFlow DType <dtype: 'float32'> in tfds.features This will soon be deprecated in favor of NumPy DTypes. In the meantime it was converted to float32.\n",
      "WARNING:absl:You use TensorFlow DType <dtype: 'int32'> in tfds.features This will soon be deprecated in favor of NumPy DTypes. In the meantime it was converted to int32.\n"
     ]
    }
   ],
   "source": [
    "config = SignDatasetConfig(name=\"rwth_phoenix2014_t_poses\", version=\"3.0.0\", include_video=False, include_pose=\"holistic\")\n",
    "rwth_phoenix2014_t = tfds.load(name='rwth_phoenix2014_t', builder_kwargs=dict(config=config), data_dir=DATA_DIR)"
   ]
  },
  {
   "cell_type": "code",
   "execution_count": 4,
   "metadata": {},
   "outputs": [
    {
     "name": "stdout",
     "output_type": "stream",
     "text": [
      "dict_keys(['gloss', 'id', 'pose', 'signer', 'text'])\n",
      "(47, 1, 543, 3)\n",
      "GUT ABEND LIEB ZUSCHAUER\n",
      "guten abend liebe zuschauer\n",
      "\n",
      "dict_keys(['gloss', 'id', 'pose', 'signer', 'text'])\n",
      "(56, 1, 543, 3)\n",
      "BERG DAZU SCHNEE\n",
      "im bergland fällt zunehmend schnee\n",
      "\n",
      "dict_keys(['gloss', 'id', 'pose', 'signer', 'text'])\n",
      "(70, 1, 543, 3)\n",
      "UNWETTER WEHEN\n",
      "und der wind weht auch noch kräftig aus west bis nordwest\n",
      "\n",
      "dict_keys(['gloss', 'id', 'pose', 'signer', 'text'])\n",
      "(99, 1, 543, 3)\n",
      "WIE-AUSSEHEN IN-KOMMEND MONTAG BIS MITTWOCH WIE-IMMER\n",
      "die aussichten von montag bis mittwoch ändert sich das wetter kaum\n",
      "\n",
      "dict_keys(['gloss', 'id', 'pose', 'signer', 'text'])\n",
      "(123, 1, 543, 3)\n",
      "BERG HOCH KOENNEN QUELL WOLKE NAH REGION KOENNEN VERDICHTEN\n",
      "über dem bergland können sich einzelne quellwolken zeigen in küstennähe gibt es auch mal dichtere wolken\n",
      "\n"
     ]
    }
   ],
   "source": [
    "for datum in itertools.islice(rwth_phoenix2014_t[\"train\"], 0, 5):\n",
    "  print((datum.keys()))\n",
    "  print(datum['pose']['data'].shape)\n",
    "  print(datum['gloss'].numpy().decode('utf-8'))\n",
    "  print(datum['text'].numpy().decode('utf-8'))\n",
    "  print()"
   ]
  },
  {
   "cell_type": "code",
   "execution_count": 13,
   "metadata": {},
   "outputs": [],
   "source": [
    "lengths = []\n",
    "texts = []\n",
    "\n",
    "for datum in rwth_phoenix2014_t[\"train\"]:\n",
    "  lengths.append(datum['pose']['data'].shape[0])\n",
    "  texts.append(datum['text'].numpy().decode('utf-8'))"
   ]
  },
  {
   "cell_type": "code",
   "execution_count": 14,
   "metadata": {},
   "outputs": [
    {
     "data": {
      "text/plain": [
       "count    7096.000000\n",
       "mean      116.594419\n",
       "std        49.859426\n",
       "min        16.000000\n",
       "50%       112.000000\n",
       "75%       144.000000\n",
       "90%       182.000000\n",
       "95%       208.000000\n",
       "99%       259.000000\n",
       "max       475.000000\n",
       "dtype: float64"
      ]
     },
     "execution_count": 14,
     "metadata": {},
     "output_type": "execute_result"
    }
   ],
   "source": [
    "import pandas as pd\n",
    "\n",
    "\n",
    "lengths_df = pd.Series(lengths)\n",
    "lengths_df.describe(percentiles=[.75, .9, .95, .99])"
   ]
  },
  {
   "cell_type": "code",
   "execution_count": 15,
   "metadata": {},
   "outputs": [
    {
     "data": {
      "text/plain": [
       "<AxesSubplot:>"
      ]
     },
     "execution_count": 15,
     "metadata": {},
     "output_type": "execute_result"
    },
    {
     "data": {
      "image/png": "[encoded data removed]",
      "text/plain": [
       "<Figure size 432x288 with 1 Axes>"
      ]
     },
     "metadata": {
      "needs_background": "light"
     },
     "output_type": "display_data"
    }
   ],
   "source": [
    "lengths_df.hist()"
   ]
  },
  {
   "cell_type": "code",
   "execution_count": 53,
   "metadata": {},
   "outputs": [
    {
     "name": "stderr",
     "output_type": "stream",
     "text": [
      "Some weights of the PyTorch model were not used when initializing the TF 2.0 model TFBertModel: ['cls.predictions.transform.LayerNorm.weight', 'cls.seq_relationship.bias', 'cls.predictions.transform.LayerNorm.bias', 'cls.seq_relationship.weight', 'cls.predictions.bias', 'cls.predictions.transform.dense.weight', 'cls.predictions.transform.dense.bias']\n",
      "- This IS expected if you are initializing TFBertModel from a PyTorch model trained on another task or with another architecture (e.g. initializing a TFBertForSequenceClassification model from a BertForPreTraining model).\n",
      "- This IS NOT expected if you are initializing TFBertModel from a PyTorch model that you expect to be exactly identical (e.g. initializing a TFBertForSequenceClassification model from a BertForSequenceClassification model).\n",
      "All the weights of TFBertModel were initialized from the PyTorch model.\n",
      "If your task is similar to the task the model of the checkpoint was trained on, you can already use TFBertModel for predictions without further training.\n"
     ]
    }
   ],
   "source": [
    "# Load model directly\n",
    "from transformers import AutoTokenizer, TFAutoModel\n",
    "\n",
    "tokenizer = AutoTokenizer.from_pretrained(\"google-bert/bert-base-german-cased\")\n",
    "bert_german = TFAutoModel.from_pretrained(\"google-bert/bert-base-german-cased\")"
   ]
  },
  {
   "cell_type": "code",
   "execution_count": 46,
   "metadata": {},
   "outputs": [],
   "source": [
    "tokenized_sequences = tokenizer(texts, padding=True)"
   ]
  },
  {
   "cell_type": "code",
   "execution_count": 47,
   "metadata": {},
   "outputs": [
    {
     "data": {
      "text/plain": [
       "'im bergland fällt zunehmend schnee'"
      ]
     },
     "execution_count": 47,
     "metadata": {},
     "output_type": "execute_result"
    }
   ],
   "source": [
    "texts[1]"
   ]
  },
  {
   "cell_type": "code",
   "execution_count": 52,
   "metadata": {},
   "outputs": [
    {
     "data": {
      "text/plain": [
       "Encoding(num_tokens=69, attributes=[ids, type_ids, tokens, offsets, attention_mask, special_tokens_mask, overflowing])"
      ]
     },
     "execution_count": 52,
     "metadata": {},
     "output_type": "execute_result"
    }
   ],
   "source": [
    "tokenized_sequences[1]"
   ]
  },
  {
   "cell_type": "code",
   "execution_count": 55,
   "metadata": {},
   "outputs": [
    {
     "ename": "AttributeError",
     "evalue": "module 'tensorflow.keras.layers' has no attribute 'TransformerEncoder'",
     "output_type": "error",
     "traceback": [
      "\u001b[0;31m---------------------------------------------------------------------------\u001b[0m",
      "\u001b[0;31mAttributeError\u001b[0m                            Traceback (most recent call last)",
      "Input \u001b[0;32mIn [55]\u001b[0m, in \u001b[0;36m<module>\u001b[0;34m\u001b[0m\n\u001b[1;32m     17\u001b[0m text_representation \u001b[38;5;241m=\u001b[39m bert_german(input_text)\n\u001b[1;32m     19\u001b[0m \u001b[38;5;66;03m# Transformer Encoder Layer\u001b[39;00m\n\u001b[0;32m---> 20\u001b[0m transformer_encoder \u001b[38;5;241m=\u001b[39m \u001b[43mtf\u001b[49m\u001b[38;5;241;43m.\u001b[39;49m\u001b[43mkeras\u001b[49m\u001b[38;5;241;43m.\u001b[39;49m\u001b[43mlayers\u001b[49m\u001b[38;5;241;43m.\u001b[39;49m\u001b[43mTransformerEncoder\u001b[49m(\n\u001b[1;32m     21\u001b[0m     units\u001b[38;5;241m=\u001b[39membedding_dim,\n\u001b[1;32m     22\u001b[0m     num_heads\u001b[38;5;241m=\u001b[39mnum_heads,\n\u001b[1;32m     23\u001b[0m     ff_dim\u001b[38;5;241m=\u001b[39mff_dim,\n\u001b[1;32m     24\u001b[0m     dropout\u001b[38;5;241m=\u001b[39mdropout\n\u001b[1;32m     25\u001b[0m )\n\u001b[1;32m     27\u001b[0m input_embeddings \u001b[38;5;241m=\u001b[39m Input(shape\u001b[38;5;241m=\u001b[39m(seq_length, embedding_dim))\n\u001b[1;32m     28\u001b[0m x \u001b[38;5;241m=\u001b[39m transformer_encoder(input_embeddings)\n",
      "\u001b[0;31mAttributeError\u001b[0m: module 'tensorflow.keras.layers' has no attribute 'TransformerEncoder'"
     ]
    }
   ],
   "source": [
    "import tensorflow as tf\n",
    "from tensorflow.keras.layers import Input, Dense, GlobalAveragePooling1D\n",
    "from tensorflow.keras.models import Model\n",
    "from tensorflow.keras.layers.experimental import preprocessing\n",
    "\n",
    "embedding_dim = 1629\n",
    "seq_length = 475\n",
    "num_heads = 8\n",
    "ff_dim = 1024\n",
    "num_transformer_blocks = 4\n",
    "mlp_units = [512]\n",
    "dropout = 0.1\n",
    "mlp_dropout = 0.4\n",
    "\n",
    "# Pretrained text model\n",
    "input_text = Input(shape=(69,), dtype=tf.int32)\n",
    "text_representation = bert_german(input_text)\n",
    "\n",
    "# Transformer Encoder Layer\n",
    "transformer_encoder = tf.keras.layers.TransformerEncoder(\n",
    "    units=embedding_dim,\n",
    "    num_heads=num_heads,\n",
    "    ff_dim=ff_dim,\n",
    "    dropout=dropout\n",
    ")\n",
    "\n",
    "input_embeddings = Input(shape=(seq_length, embedding_dim))\n",
    "x = transformer_encoder(input_embeddings)\n",
    "\n",
    "# Global Average Pooling para reducir la longitud de la secuencia\n",
    "x = GlobalAveragePooling1D()(x)\n",
    "\n",
    "# Capas de la red densa (MLP)\n",
    "for dim in mlp_units:\n",
    "    x = Dense(dim, activation=\"relu\")(x)\n",
    "    x = Dropout(mlp_dropout)(x)\n",
    "\n",
    "output_layer = Dense(embedding_dim, activation=\"linear\")(x)\n",
    "model = Model(inputs=[input_text, input_embeddings], outputs=output_layer)\n",
    "\n",
    "model.compile(optimizer='adam', loss='mse')\n",
    "\n",
    "model.summary()\n"
   ]
  }
 ],
 "metadata": {
  "kernelspec": {
   "display_name": "Python 3",
   "language": "python",
   "name": "python3"
  },
  "language_info": {
   "codemirror_mode": {
    "name": "ipython",
    "version": 3
   },
   "file_extension": ".py",
   "mimetype": "text/x-python",
   "name": "python",
   "nbconvert_exporter": "python",
   "pygments_lexer": "ipython3",
   "version": "3.8.10"
  }
 },
 "nbformat": 4,
 "nbformat_minor": 2
}
